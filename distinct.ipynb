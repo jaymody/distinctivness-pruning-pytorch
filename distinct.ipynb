{
 "cells": [
  {
   "cell_type": "code",
   "execution_count": 1,
   "id": "27ca7d06",
   "metadata": {},
   "outputs": [],
   "source": [
    "%load_ext autoreload\n",
    "%autoreload 2"
   ]
  },
  {
   "cell_type": "code",
   "execution_count": 2,
   "id": "bf77b255",
   "metadata": {},
   "outputs": [],
   "source": [
    "from main import *"
   ]
  },
  {
   "cell_type": "code",
   "execution_count": 3,
   "id": "cfba73ba",
   "metadata": {},
   "outputs": [],
   "source": [
    "set_seed(config[\"seed\"])"
   ]
  },
  {
   "cell_type": "code",
   "execution_count": 4,
   "id": "bd4c08d9",
   "metadata": {},
   "outputs": [
    {
     "data": {
      "text/plain": [
       "CNN(\n",
       "  (conv1): Conv2d(1, 20, kernel_size=(5, 5), stride=(1, 1))\n",
       "  (pool1): MaxPool2d(kernel_size=2, stride=2, padding=0, dilation=1, ceil_mode=False)\n",
       "  (relu1): ReLU()\n",
       "  (conv2): Conv2d(20, 40, kernel_size=(5, 5), stride=(1, 1))\n",
       "  (pool2): MaxPool2d(kernel_size=2, stride=2, padding=0, dilation=1, ceil_mode=False)\n",
       "  (relu2): ReLU()\n",
       "  (dropout): Dropout2d(p=0.25, inplace=False)\n",
       "  (fc1): Linear(in_features=640, out_features=400, bias=True)\n",
       "  (relu3): ReLU()\n",
       "  (fc2): Linear(in_features=400, out_features=10, bias=True)\n",
       ")"
      ]
     },
     "execution_count": 4,
     "metadata": {},
     "output_type": "execute_result"
    }
   ],
   "source": [
    "# load test dataset\n",
    "transform = get_transform()\n",
    "test_dataset = MNIST(\n",
    "    root=\"data/mnist/test\", train=False, download=True, transform=transform\n",
    ")\n",
    "\n",
    "# data loader\n",
    "test_loader = DataLoader(\n",
    "    test_dataset,\n",
    "    batch_size=config[\"batch_size\"],\n",
    "    num_workers=config[\"num_workers\"],\n",
    "    shuffle=False,\n",
    "    pin_memory=True,\n",
    "    drop_last=False,\n",
    ")\n",
    "\n",
    "# load model\n",
    "model = CNN()\n",
    "model.load_state_dict(torch.load(config[\"model_path\"]))\n",
    "model.to(device)"
   ]
  },
  {
   "cell_type": "code",
   "execution_count": 32,
   "id": "a29e7984",
   "metadata": {},
   "outputs": [],
   "source": [
    "class Pruner:\n",
    "    def __init__(self, model, modules):\n",
    "        self.model = model\n",
    "        self.modules = modules\n",
    "        self.activations = {}\n",
    "        self.weights = {}\n",
    "        self.handles = []\n",
    "    \n",
    "    def register_hooks(self):\n",
    "        for module in self.modules:\n",
    "            print(\"registered hook for\", module)\n",
    "            self.handles.append(module.register_forward_hook(self))\n",
    "            self.activations[module] = []\n",
    "        \n",
    "    def unregister_hooks(self):\n",
    "        for handle in self.handles:\n",
    "            handle.remove()\n",
    "        self.handles = []\n",
    "            \n",
    "    def prune(self, fn, *args, **kwargs):\n",
    "        self.activations = {}\n",
    "        self.weights = {}\n",
    "        self.handles = []\n",
    "        \n",
    "        # register hooks\n",
    "        self.register_hooks()\n",
    "        \n",
    "        # run the model\n",
    "        outputs = fn(*args, **kwargs)\n",
    "        \n",
    "        # average the activations\n",
    "        for module, tensors in self.activations.items():\n",
    "            self.activations[module] = torch.mean(torch.cat(tensors), axis=0)\n",
    "        \n",
    "        # unregister hooks\n",
    "        self.unregister_hooks()\n",
    "        return outputs\n",
    "        \n",
    "    def __call__(self, module, module_in, module_out):\n",
    "        self.activations[module].append(module_out)\n",
    "        self.weights[module] = module_in"
   ]
  },
  {
   "cell_type": "code",
   "execution_count": 33,
   "id": "4c38e39f",
   "metadata": {},
   "outputs": [
    {
     "name": "stdout",
     "output_type": "stream",
     "text": [
      "reset\n"
     ]
    }
   ],
   "source": [
    "try:\n",
    "    print('reset')\n",
    "    pruner.reset()\n",
    "except:\n",
    "    pass\n",
    "\n",
    "modules_to_register = [module for module in model.modules() if isinstance(module, nn.ReLU)]\n",
    "\n",
    "pruner = Pruner(model, modules_to_register)"
   ]
  },
  {
   "cell_type": "code",
   "execution_count": 34,
   "id": "772a450f",
   "metadata": {},
   "outputs": [
    {
     "name": "stdout",
     "output_type": "stream",
     "text": [
      "registered hook for ReLU()\n",
      "registered hook for ReLU()\n",
      "registered hook for ReLU()\n",
      "Test Accuracy: 0.992\n",
      "Test Loss: 0.070\n"
     ]
    }
   ],
   "source": [
    "criterion = nn.CrossEntropyLoss()\n",
    "test_loss, test_acc = pruner.prune(eval_fn, model, test_loader, criterion)\n",
    "print(f\"Test Accuracy: {test_acc:.3f}\")\n",
    "print(f\"Test Loss: {test_loss:.3f}\")"
   ]
  },
  {
   "cell_type": "code",
   "execution_count": 36,
   "id": "d0421292",
   "metadata": {},
   "outputs": [
    {
     "name": "stdout",
     "output_type": "stream",
     "text": [
      "3\n"
     ]
    }
   ],
   "source": [
    "print(len(pruner.activations))"
   ]
  },
  {
   "cell_type": "code",
   "execution_count": 38,
   "id": "6677ce81",
   "metadata": {},
   "outputs": [
    {
     "name": "stdout",
     "output_type": "stream",
     "text": [
      "ReLU()\n",
      "(20, 12, 12)\n",
      "[0.12976679 0.12985975 0.13066787 0.13741095 0.16576554]\n",
      "\n",
      "ReLU()\n",
      "(40, 4, 4)\n",
      "[0.0539217  0.25208881 0.8704111  0.37289748 0.05550476]\n",
      "\n",
      "ReLU()\n",
      "(400,)\n",
      "[1.3131658e-03 1.5103534e+00 2.3150957e-01 8.7541753e-01 1.2633779e+00]\n",
      "\n"
     ]
    }
   ],
   "source": [
    "for module, activations in pruner.activations.items():\n",
    "    print(module, tuple(activations.shape), activations.flatten().detach().cpu().numpy()[:5], sep=\"\\n\", end=\"\\n\\n\")"
   ]
  },
  {
   "cell_type": "code",
   "execution_count": null,
   "id": "38b4cf1d",
   "metadata": {},
   "outputs": [],
   "source": []
  }
 ],
 "metadata": {
  "kernelspec": {
   "display_name": "Python 3",
   "language": "python",
   "name": "python3"
  },
  "language_info": {
   "codemirror_mode": {
    "name": "ipython",
    "version": 3
   },
   "file_extension": ".py",
   "mimetype": "text/x-python",
   "name": "python",
   "nbconvert_exporter": "python",
   "pygments_lexer": "ipython3",
   "version": "3.8.7"
  }
 },
 "nbformat": 4,
 "nbformat_minor": 5
}
