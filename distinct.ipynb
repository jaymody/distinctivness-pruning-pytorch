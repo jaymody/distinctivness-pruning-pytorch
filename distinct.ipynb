{
 "cells": [
  {
   "cell_type": "markdown",
   "id": "a69517bd",
   "metadata": {},
   "source": [
    "# Setup"
   ]
  },
  {
   "cell_type": "code",
   "execution_count": 1,
   "id": "5d16f8c2",
   "metadata": {},
   "outputs": [],
   "source": [
    "%load_ext autoreload\n",
    "%autoreload 2"
   ]
  },
  {
   "cell_type": "code",
   "execution_count": 2,
   "id": "8e7d947f",
   "metadata": {},
   "outputs": [],
   "source": [
    "from main import *\n",
    "import math"
   ]
  },
  {
   "cell_type": "code",
   "execution_count": 3,
   "id": "0506b8d3",
   "metadata": {},
   "outputs": [],
   "source": [
    "set_seed(config[\"seed\"])"
   ]
  },
  {
   "cell_type": "code",
   "execution_count": 4,
   "id": "a0270c71",
   "metadata": {},
   "outputs": [
    {
     "data": {
      "text/plain": [
       "CNN(\n",
       "  (conv1): Conv2d(1, 20, kernel_size=(5, 5), stride=(1, 1))\n",
       "  (pool1): MaxPool2d(kernel_size=2, stride=2, padding=0, dilation=1, ceil_mode=False)\n",
       "  (relu1): ReLU()\n",
       "  (conv2): Conv2d(20, 40, kernel_size=(5, 5), stride=(1, 1))\n",
       "  (pool2): MaxPool2d(kernel_size=2, stride=2, padding=0, dilation=1, ceil_mode=False)\n",
       "  (relu2): ReLU()\n",
       "  (dropout): Dropout2d(p=0.25, inplace=False)\n",
       "  (fc1): Linear(in_features=640, out_features=400, bias=True)\n",
       "  (relu3): ReLU()\n",
       "  (fc2): Linear(in_features=400, out_features=10, bias=True)\n",
       ")"
      ]
     },
     "execution_count": 4,
     "metadata": {},
     "output_type": "execute_result"
    }
   ],
   "source": [
    "# load test dataset\n",
    "transform = get_transform()\n",
    "test_dataset = MNIST(\n",
    "    root=\"data/mnist/test\", train=False, download=True, transform=transform\n",
    ")\n",
    "\n",
    "# data loader\n",
    "test_loader = DataLoader(\n",
    "    test_dataset,\n",
    "    batch_size=config[\"batch_size\"],\n",
    "    num_workers=config[\"num_workers\"],\n",
    "    shuffle=False,\n",
    "    pin_memory=True,\n",
    "    drop_last=False,\n",
    ")\n",
    "\n",
    "# load model\n",
    "model = CNN()\n",
    "model.load_state_dict(torch.load(config[\"model_path\"]))\n",
    "model.to(device)"
   ]
  },
  {
   "cell_type": "markdown",
   "id": "917212a3",
   "metadata": {},
   "source": [
    "# Save Activations"
   ]
  },
  {
   "cell_type": "code",
   "execution_count": 46,
   "id": "537f0da2",
   "metadata": {},
   "outputs": [],
   "source": [
    "class ActivationsHook:\n",
    "    def __init__(self, model, modules):\n",
    "        self.model = model\n",
    "        self.modules = modules\n",
    "        self.activations = {}\n",
    "        self.weights = {}\n",
    "        self.handles = []\n",
    "\n",
    "    def register_hooks(self):\n",
    "        for module in self.modules:\n",
    "            print(\"registered hook for\", module)\n",
    "            self.handles.append(module.register_forward_hook(self))\n",
    "            self.activations[module] = []\n",
    "\n",
    "    def unregister_hooks(self):\n",
    "        for handle in self.handles:\n",
    "            handle.remove()\n",
    "        self.handles = []\n",
    "            \n",
    "    def save_activations(self, fn, *args, **kwargs):\n",
    "        self.activations = {}\n",
    "        self.weights = {}\n",
    "        self.handles = []\n",
    "        \n",
    "        # register hooks\n",
    "        self.register_hooks()\n",
    "        \n",
    "        # run the model\n",
    "        outputs = fn(*args, **kwargs)\n",
    "        \n",
    "        # get vector of each neuron\n",
    "        for module, tensors in self.activations.items():            \n",
    "            # stack all the activations to have shape (N, ...), where N = num examples\n",
    "            tensors = torch.cat(tensors)\n",
    "            self.activations[module] = tensors\n",
    "        \n",
    "        # unregister hooks\n",
    "        self.unregister_hooks()\n",
    "        return outputs\n",
    "        \n",
    "    def __call__(self, module, module_in, module_out):\n",
    "        self.activations[module].append(module_out)\n",
    "        self.weights[module] = module_in"
   ]
  },
  {
   "cell_type": "code",
   "execution_count": 47,
   "id": "713237fd",
   "metadata": {},
   "outputs": [
    {
     "name": "stdout",
     "output_type": "stream",
     "text": [
      "reset\n"
     ]
    }
   ],
   "source": [
    "try:\n",
    "    print('reset')\n",
    "    pruner.reset()\n",
    "except:\n",
    "    pass\n",
    "\n",
    "modules_to_register = [module for module in model.modules() if isinstance(module, nn.ReLU)]\n",
    "\n",
    "act_hook = ActivationsHook(model, modules_to_register)"
   ]
  },
  {
   "cell_type": "code",
   "execution_count": 48,
   "id": "b2bd4f7e",
   "metadata": {},
   "outputs": [
    {
     "name": "stdout",
     "output_type": "stream",
     "text": [
      "registered hook for ReLU()\n",
      "registered hook for ReLU()\n",
      "registered hook for ReLU()\n",
      "Test Accuracy: 0.992\n",
      "Test Loss: 0.070\n"
     ]
    }
   ],
   "source": [
    "criterion = nn.CrossEntropyLoss()\n",
    "test_loss, test_acc = act_hook.save_activations(eval_fn, model, test_loader, criterion)\n",
    "print(f\"Test Accuracy: {test_acc:.3f}\")\n",
    "print(f\"Test Loss: {test_loss:.3f}\")"
   ]
  },
  {
   "cell_type": "code",
   "execution_count": 49,
   "id": "68805d48",
   "metadata": {},
   "outputs": [
    {
     "name": "stdout",
     "output_type": "stream",
     "text": [
      "3\n"
     ]
    }
   ],
   "source": [
    "print(len(act_hook.activations))"
   ]
  },
  {
   "cell_type": "code",
   "execution_count": 55,
   "id": "561c81b7",
   "metadata": {},
   "outputs": [
    {
     "name": "stdout",
     "output_type": "stream",
     "text": [
      "ReLU()\n",
      "(10000, 20, 12, 12)\n",
      "[0.12973969 0.12973969 0.12973969 0.12973969 0.12973969]\n",
      "\n",
      "ReLU()\n",
      "(10000, 40, 4, 4)\n",
      "[0.00431408 1.1014757  3.9778383  3.0417483  0.        ]\n",
      "\n",
      "ReLU()\n",
      "(10000, 400)\n",
      "[0.        0.        0.        2.9065669 0.       ]\n",
      "\n"
     ]
    }
   ],
   "source": [
    "for module, activations in act_hook.activations.items():\n",
    "    print(module, tuple(activations.shape), activations.flatten().detach().cpu().numpy()[:5], sep=\"\\n\", end=\"\\n\\n\")"
   ]
  },
  {
   "cell_type": "markdown",
   "id": "c4375436",
   "metadata": {},
   "source": [
    "# Vector Similarity"
   ]
  },
  {
   "cell_type": "code",
   "execution_count": 50,
   "id": "f1d67de6",
   "metadata": {},
   "outputs": [],
   "source": [
    "def cosine_angle(a, b):\n",
    "    inner_product = torch.dot(a.flatten(), b.flatten())\n",
    "    a_norm = torch.norm(a)\n",
    "    b_norm = torch.norm(b)\n",
    "    return torch.acos(inner_product / (a_norm * b_norm))"
   ]
  },
  {
   "cell_type": "code",
   "execution_count": 54,
   "id": "3716b617",
   "metadata": {},
   "outputs": [
    {
     "data": {
      "text/plain": [
       "tensor(0.)"
      ]
     },
     "execution_count": 54,
     "metadata": {},
     "output_type": "execute_result"
    }
   ],
   "source": [
    "a = torch.ones((10))\n",
    "b = torch.clone(a)\n",
    "cosine_angle(a, b)"
   ]
  },
  {
   "cell_type": "code",
   "execution_count": 55,
   "id": "c55d4afc",
   "metadata": {},
   "outputs": [
    {
     "data": {
      "text/plain": [
       "tensor(3.1416)"
      ]
     },
     "execution_count": 55,
     "metadata": {},
     "output_type": "execute_result"
    }
   ],
   "source": [
    "a = torch.ones((10))\n",
    "b = -a\n",
    "cosine_angle(a, b)"
   ]
  },
  {
   "cell_type": "code",
   "execution_count": 56,
   "id": "400f57b7",
   "metadata": {},
   "outputs": [
    {
     "data": {
      "text/plain": [
       "tensor(1.0679)"
      ]
     },
     "execution_count": 56,
     "metadata": {},
     "output_type": "execute_result"
    }
   ],
   "source": [
    "a = torch.tensor([[11., 21., 10.]])\n",
    "b = torch.tensor([[12., -2., 14.]])\n",
    "cosine_angle(a, b)"
   ]
  },
  {
   "cell_type": "code",
   "execution_count": 60,
   "id": "423ac8ff",
   "metadata": {},
   "outputs": [
    {
     "data": {
      "text/plain": [
       "tensor(0.7268)"
      ]
     },
     "execution_count": 60,
     "metadata": {},
     "output_type": "execute_result"
    }
   ],
   "source": [
    "a = torch.rand((10, 5))\n",
    "b = torch.rand((10, 5))\n",
    "cosine_angle(a, b)"
   ]
  },
  {
   "cell_type": "markdown",
   "id": "c13976df",
   "metadata": {},
   "source": [
    "# Neuron Vectors"
   ]
  },
  {
   "cell_type": "code",
   "execution_count": 57,
   "id": "3aa10c9f",
   "metadata": {},
   "outputs": [
    {
     "name": "stdout",
     "output_type": "stream",
     "text": [
      "ReLU()\n",
      "(20, 12, 12, 10000)\n",
      "[0.12973969 0.12973969 0.12973969 0.12973969 0.12973969]\n",
      "\n",
      "ReLU()\n",
      "(40, 4, 4, 10000)\n",
      "[0.00431408 0.         0.         0.         0.0743544 ]\n",
      "\n",
      "ReLU()\n",
      "(400, 10000)\n",
      "[0. 0. 0. 0. 0.]\n",
      "\n"
     ]
    }
   ],
   "source": [
    "for module, activations in act_hook.activations.items():\n",
    "    # permute the activations such that each neuron is described\n",
    "    # as a vector of length N (ie last dim of tensor is N, the number of examples)\n",
    "    dims = list(range(1, len(activations.shape)))\n",
    "    dims.append(0)\n",
    "    activations = activations.permute(dims)\n",
    "    \n",
    "    print(module, tuple(activations.shape), activations.flatten().detach().cpu().numpy()[:5], sep=\"\\n\", end=\"\\n\\n\")"
   ]
  },
  {
   "cell_type": "code",
   "execution_count": null,
   "id": "494a9395",
   "metadata": {},
   "outputs": [],
   "source": []
  }
 ],
 "metadata": {
  "kernelspec": {
   "display_name": "Python 3",
   "language": "python",
   "name": "python3"
  },
  "language_info": {
   "codemirror_mode": {
    "name": "ipython",
    "version": 3
   },
   "file_extension": ".py",
   "mimetype": "text/x-python",
   "name": "python",
   "nbconvert_exporter": "python",
   "pygments_lexer": "ipython3",
   "version": "3.8.7"
  }
 },
 "nbformat": 4,
 "nbformat_minor": 5
}
